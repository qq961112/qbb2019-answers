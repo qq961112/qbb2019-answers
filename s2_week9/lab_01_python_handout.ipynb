{
 "cells": [
  {
   "cell_type": "markdown",
   "metadata": {},
   "source": [
    "### AS.020.674 Fall 2015\n",
    "### Lab 11\n",
    "Due Dec 1 in lab. Submit your answers to Blackboard as either python scripts and associated figures or as a single working iPython notebook file."
   ]
  },
  {
   "cell_type": "code",
   "execution_count": 2,
   "metadata": {
    "collapsed": true
   },
   "outputs": [],
   "source": [
    "# Standard iPython notebook preamble.\n",
    "%matplotlib inline\n",
    "from __future__ import division\n",
    "import matplotlib\n",
    "import numpy as np\n",
    "from pylab import *\n",
    "matplotlib.rcParams.update({\"axes.formatter.limits\": (-3,3)})\n",
    "plotStyles={\"markersize\":10,\"markeredgewidth\":2.0,\"linewidth\":2.0}\n",
    "stepStyles={\"markersize\":12,\"markeredgewidth\":3.0,\"linewidth\":3.0,\"where\":\"post\"}"
   ]
  },
  {
   "cell_type": "markdown",
   "metadata": {},
   "source": [
    "## Introduction.\n",
    "\n",
    "In this lab we will be running kinetic simulations of an individual single molecule undergoing a folding and unfolding reaction. We will save the time series data and analyze them to learn about the kintic rates.\n",
    "\n",
    "We will model a single molecule folding and unfolding using two first order reactions:\n",
    "\n",
    "1. U→F with rate constant $k_1$\n",
    "2. F→U with rate constant $k_2$\n",
    "\n",
    "Below is a Python script that simulates the kinetics of a single protein folding and unfolding."
   ]
  },
  {
   "cell_type": "code",
   "execution_count": 3,
   "metadata": {
    "collapsed": false
   },
   "outputs": [
    {
     "data": {
      "image/png": "[encoded data removed]",
      "text/plain": [
       "<matplotlib.figure.Figure at 0x10a7d5e90>"
      ]
     },
     "metadata": {},
     "output_type": "display_data"
    }
   ],
   "source": [
    "import numpy.random as rnd\n",
    "\n",
    "k1=0.15\n",
    "k2=0.07\n",
    "ts=[0.0]   # a list of the times when a state change has occurred\n",
    "states=[0] # state 0 is unfolded, state 1 is folded\n",
    "tf=100.0   # the final time of the simulation\n",
    "while (ts[-1]<tf):\n",
    "    \n",
    "    # If we are in the unfolded state, figure out when the molecule transitions to the folded state.\n",
    "    if states[-1] == 0:\n",
    "        ts.append(ts[-1]+rnd.exponential(1/k1))\n",
    "        states.append(1)\n",
    "        \n",
    "    # If we are in the folded state, figure out when the molecule transitions to the unfolded state.\n",
    "    else:\n",
    "        ts.append(ts[-1]+rnd.exponential(1/k2))\n",
    "        states.append(0)\n",
    "\n",
    "matplotlib.rcParams.update({'font.size': 15, \"figure.figsize\": (15,5)})\n",
    "step(ts,states, **stepStyles)\n",
    "xlabel('t'); ylim([-0.1,1.1]); ylabel('State');\n"
   ]
  },
  {
   "cell_type": "markdown",
   "metadata": {},
   "source": [
    "Read through and try to understand the code above. Save the script to a file and make sure you can run it, you may need to adjust the plotting code for your preferred plotting method."
   ]
  },
  {
   "cell_type": "markdown",
   "metadata": {},
   "source": [
    "## Problem 1\n",
    "\n",
    "Run a folding simulation for 1000 seconds. Create a list of waiting times (the time between transitions) in both the folded and unfolded state. Use the np.histogram function to calculate a histogram of the waiting times for both states, using 20 bins.\n",
    "\n",
    "1. Plot the two histograms as bar plots. Hint: the np.histogram function returns the bin edges, you will want to plot the bars located at the bin centers. Hint 2: for n bins there will be n+1 edges and n centers."
   ]
  },
  {
   "cell_type": "markdown",
   "metadata": {},
   "source": [
    "## Problem 2\n",
    "The histogram function returns the number of counts in each bin. To compare with our kinetics equations, we need to convert the counts into a probability density function (PDF). To do so, divide the histogram counts by the sum of all the counts and also by the width of the bin. The bins are all the same size by default, so you can divide each count by the width of the first bin.\n",
    "\n",
    "1. Plot the calculated PDFs for the folding and unfolding transition times as a bar plot.\n",
    "2. On top of the bar plots, plot the PDF for an exponential distribution: $p(t)=k{\\cdot}e^{-k{\\cdot}t}$, where $k$ is $k_1$ or $k_2$ as appropriate."
   ]
  },
  {
   "cell_type": "markdown",
   "metadata": {},
   "source": [
    "## Problem 3\n",
    "Write a python script to fit your calculated PDFs to exponential distributions to estimate $k_1$ and $k_2$.\n",
    "\n",
    "1. Plot the calculated PDFs as bar plots overlaid with the best fit estimates.\n",
    "2. What is the relative error in your estimated $k_1$ and $k_2$ vs the actual $k_1$ and $k_2$?\n",
    "3. Change the time of the simulation to 10000 seconds and run the analysis again. Now what are the estimated errors in $k_1$ and $k_2$?"
   ]
  }
 ],
 "metadata": {
  "kernelspec": {
   "display_name": "Python 2",
   "language": "python",
   "name": "python2"
  },
  "language_info": {
   "codemirror_mode": {
    "name": "ipython",
    "version": 2
   },
   "file_extension": ".py",
   "mimetype": "text/x-python",
   "name": "python",
   "nbconvert_exporter": "python",
   "pygments_lexer": "ipython2",
   "version": "2.7.2"
  }
 },
 "nbformat": 4,
 "nbformat_minor": 0
}
